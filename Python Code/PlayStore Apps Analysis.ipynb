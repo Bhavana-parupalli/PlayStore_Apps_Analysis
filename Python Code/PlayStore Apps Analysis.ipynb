{
 "cells": [
  {
   "cell_type": "code",
   "execution_count": null,
   "id": "97dba6c6",
   "metadata": {},
   "outputs": [],
   "source": [
    "import pandas as pd\n",
    "import warnings\n",
    "warnings.filterwarnings(\"ignore\")\n",
    "#Task1\n",
    "#Loading the data\n",
    "def read_data_from_csv():\n",
    "    #read the playstore_apps.csv dataset and return the data\n",
    "    df = pd.read_csv(\"playstore_apps.csv\")\n",
    "\n",
    "    return df\n"
   ]
  },
  {
   "cell_type": "code",
   "execution_count": null,
   "id": "282d0578",
   "metadata": {},
   "outputs": [],
   "source": [
    "#Task2: Keep Only Required columns,\n",
    "def remove_unwanted_columns():\n",
    "    #do not remove this line and do not change the function names\n",
    "    df=read_data_from_csv()\n",
    "    #remove the unwanted column and use inplace= True for dynamically updating the dataset\n",
    "    df.drop(columns=['Last Updated', 'Current Ver', 'Android Ver', 'Size'], inplace=True)\n",
    "    # write your code here\n",
    "    return df"
   ]
  },
  {
   "cell_type": "code",
   "execution_count": null,
   "id": "2c02acd1",
   "metadata": {},
   "outputs": [],
   "source": [
    "#TASK3 : REMOVE DUPLICATES FROM THE DATASET\n",
    "def remove_duplicates():\n",
    "    # do not remove this line and do not change the function names\n",
    "    df=remove_unwanted_columns()\n",
    "    #write your code here\n",
    "    df = df.drop_duplicates()\n",
    "    return df"
   ]
  },
  {
   "cell_type": "code",
   "execution_count": null,
   "id": "ddcdd3a3",
   "metadata": {},
   "outputs": [],
   "source": [
    "#TASK4: HANDLE NULL VALUES IN THE DATASET\n",
    "def no_of_null_values():\n",
    "    df= remove_duplicates()\n",
    "    ##write your code here and return the null values\n",
    "    null_count = df.isnull().sum()\n",
    "    return null_count\n"
   ]
  },
  {
   "cell_type": "code",
   "execution_count": null,
   "id": "9b6bd883",
   "metadata": {},
   "outputs": [],
   "source": [
    "#TASK5: Replace the null values\n",
    "\n",
    "def replace_null_values():\n",
    "    df=remove_duplicates()\n",
    "\n",
    "    # write your code here\n",
    "    columns = ['Rating', 'Reviews', 'Installs', 'Price']\n",
    "    for c in columns:\n",
    "        df[c].fillna(df[c].mean(), inplace=True)\n",
    "    df = df.fillna({'Type':'Free', 'Content Rating':'Everyone'})\n",
    "    return df"
   ]
  },
  {
   "cell_type": "code",
   "execution_count": null,
   "id": "5158ddf0",
   "metadata": {},
   "outputs": [],
   "source": [
    "#TASK6: check unique values of Category column and remove irrelevant category\n",
    "def check_unique_values():\n",
    "    df= replace_null_values()\n",
    "\n",
    "    #write your code here\n",
    "    df.drop(index=df[df['Category']=='1.9'].index, inplace=True)\n",
    "    return df"
   ]
  },
  {
   "cell_type": "code",
   "execution_count": null,
   "id": "26ef6870",
   "metadata": {},
   "outputs": [],
   "source": [
    "#TASK7: Check unique values of \"Type\" column,\n",
    "def free_or_paid():\n",
    "    df= check_unique_values()\n",
    "    #write your code here\n",
    "    unique_values = df['Type'].value_counts()\n",
    "    return unique_values\n"
   ]
  },
  {
   "cell_type": "code",
   "execution_count": null,
   "id": "c4c4ace7",
   "metadata": {},
   "outputs": [],
   "source": [
    "# Task 8: Remove apps with irrelevant names. starting with '?'\n",
    "##export the cleaned dataset to new file as 'cleaned_apps_db.csv'\n",
    "def irrleveant_names():\n",
    "    df=check_unique_values()\n",
    "     #write your code here\n",
    "    df = df[~df['App'].str.startswith('?')]\n",
    "\n",
    "    df.to_csv('cleaned_apps_db.csv', index=False)\n",
    "    return df"
   ]
  },
  {
   "cell_type": "code",
   "execution_count": null,
   "id": "3fb7d4bd",
   "metadata": {},
   "outputs": [],
   "source": [
    "#Task9: Remove rows with nan values in the  Reviews dataset\n",
    "#Read the playstore_reviews.csv file as df1 and return the same\n",
    "\n",
    "def reviews_dataset():\n",
    "    #write your code here\n",
    "    df1 = pd.read_csv(\"playstore_reviews.csv\")\n",
    "    df1.dropna(subset=['Translated_Review'], inplace=True)\n",
    "    return df1"
   ]
  },
  {
   "cell_type": "code",
   "execution_count": null,
   "id": "8cd60456",
   "metadata": {},
   "outputs": [],
   "source": [
    "#Task10: Remove identical rows from the dataset and upload the dataset to the database\n",
    "#export the cleaned dataset to new file as 'cleaned_reviews_db.csv'\n",
    "def remove_identical_rows():\n",
    "    df1 = reviews_dataset()\n",
    "    #write your code here\n",
    "    df1 = df1.drop_duplicates()\n",
    "    # df.to_csv('cleaned_apps_db.csv', index=False)\n",
    "    df1.to_csv('cleaned_reviews_db.csv', index=False)\n",
    "    return df1"
   ]
  }
 ],
 "metadata": {
  "kernelspec": {
   "display_name": "Python 3 (ipykernel)",
   "language": "python",
   "name": "python3"
  },
  "language_info": {
   "codemirror_mode": {
    "name": "ipython",
    "version": 3
   },
   "file_extension": ".py",
   "mimetype": "text/x-python",
   "name": "python",
   "nbconvert_exporter": "python",
   "pygments_lexer": "ipython3",
   "version": "3.9.7"
  }
 },
 "nbformat": 4,
 "nbformat_minor": 5
}
